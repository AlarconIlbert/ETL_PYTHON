{
 "cells": [
  {
   "cell_type": "markdown",
   "metadata": {},
   "source": [
    "<div align=\"center\">\n",
    "  <img src=\"src/Head.png\" alt=\"Conceptos básicos de Python\">\n",
    "</div>"
   ]
  },
  {
   "cell_type": "markdown",
   "metadata": {},
   "source": [
    "<p align=\"center\">\n",
    "<a href=\"https://github.com/AlarconIlbert\"><img src=\"https://img.shields.io/badge/python-FFFF0.svg?style=for-the-badge&logo=python&logoColor=0768a8&labelColor=ffffff\" alt=\"python\"></a> <img src=\"https://img.shields.io/badge/vscode-blue.svg?style=for-the-badge&logo=visual-studio-code&labelColor=ffffff&logoColor=blue\" alt=\"vscode\"> <a href=\"https://github.com/AlarconIlbert\"><img src=\"https://img.shields.io/badge/github-black.svg?style=for-the-badge&logo=github&logoColor=black&labelColor=ffffff\" alt=\"github\"></a>\n",
    "</p>\n",
    "\n",
    "\n",
    "<p align=\"center\">\n",
    "  <a href=\"https://www.linkedin.com/in/ilbert-ferney-alarcon-bothia/\">\n",
    "    <img src=\"https://img.shields.io/badge/-ILBERT-blue?style=flat-square&logo=Linkedin&logoColor=white\" alt=\"Linkedin: thaianebraga\">\n",
    "  </a>\n",
    "  <img src=\"https://img.shields.io/github/followers/AlarconIlbert?label=Follow&style=social\" alt=\"GitHub followers\">\n",
    "  <a href=\"mailto:ilbertalarcon1@gmail.com\">\n",
    "    <img src=\"https://img.shields.io/badge/Outlook-ilbertalarcon1@gmail.com-red\" alt=\"Outlook\">\n",
    "  </a>\n",
    "</p>"
   ]
  },
  {
   "cell_type": "markdown",
   "metadata": {},
   "source": [
    "# Imports Libraries"
   ]
  },
  {
   "cell_type": "code",
   "execution_count": 6,
   "metadata": {},
   "outputs": [],
   "source": [
    "import requests\n",
    "import pandas as pd\n",
    "import json"
   ]
  },
  {
   "cell_type": "code",
   "execution_count": 3,
   "metadata": {},
   "outputs": [],
   "source": [
    "url = \"http://api.exchangeratesapi.io/v1/latest?base=EUR&access_key=***********\"  #Make sure to change ******* to your API key.\n",
    "respuesta=requests.get(url)\n",
    "#respuesta.status_code\n",
    "divisa=respuesta.text"
   ]
  },
  {
   "cell_type": "code",
   "execution_count": 7,
   "metadata": {},
   "outputs": [
    {
     "data": {
      "text/plain": [
       "'{\"success\":true,\"timestamp\":1694978283,\"base\":\"EUR\",\"date\":\"2023-09-17\",\"rates\":{\"AED\":3.920347,\"AFN\":84.249931,\"ALL\":106.949912,\"AMD\":409.699662,\"ANG\":1.920498,\"AOA\":884.295376,\"ARS\":373.428125,\"AUD\":1.656313,\"AWG\":1.921228,\"AZN\":1.814442,\"BAM\":1.955798,\"BBD\":2.151598,\"BDT\":116.949904,\"BGN\":1.959108,\"BHD\":0.4018,\"BIF\":3018.797512,\"BMD\":1.067349,\"BND\":1.453199,\"BOB\":7.362994,\"BRL\":5.194805,\"BSD\":1.065599,\"BTC\":4.0262132e-5,\"BTN\":88.463727,\"BWP\":14.577988,\"BYN\":2.689698,\"BYR\":20920.042757,\"BZD\":2.147998,\"CAD\":1.443592,\"CDF\":2636.352321,\"CHF\":0.957822,\"CLF\":0.034217,\"CLP\":944.145425,\"CNY\":7.764218,\"COP\":4184.196551,\"CRC\":564.899534,\"CUC\":1.067349,\"CUP\":28.284752,\"CVE\":110.264909,\"CZK\":24.582491,\"DJF\":189.729844,\"DKK\":7.468666,\"DOP\":60.48995,\"DZD\":146.527843,\"EGP\":33.007259,\"ERN\":16.010237,\"ETB\":58.782752,\"EUR\":1,\"FJD\":2.421442,\"FKP\":0.861946,\"GBP\":0.861738,\"GEL\":2.801767,\"GGP\":0.861946,\"GHS\":12.24899,\"GIP\":0.861946,\"GMD\":64.628067,\"GNF\":9147.99246,\"GTQ\":8.389993,\"GYD\":222.939816,\"HKD\":8.354414,\"HNL\":26.256978,\"HRK\":7.487143,\"HTG\":144.389881,\"HUF\":383.76967,\"IDR\":16401.953931,\"ILS\":4.063132,\"IMP\":0.861946,\"INR\":88.686412,\"IQD\":1395.49885,\"IRR\":45095.499833,\"ISK\":145.287302,\"JEP\":0.861946,\"JMD\":164.829864,\"JOD\":0.755899,\"JPY\":157.674178,\"KES\":155.289872,\"KGS\":94.68473,\"KHR\":4379.99639,\"KMF\":492.954897,\"KPW\":960.614208,\"KRW\":1418.94492,\"KWD\":0.329833,\"KYD\":0.887999,\"KZT\":498.799589,\"LAK\":21307.982437,\"LBP\":16016.286799,\"LKR\":344.399716,\"LRD\":199.007369,\"LSL\":20.258197,\"LTL\":3.151604,\"LVL\":0.645629,\"LYD\":5.166996,\"MAD\":10.936491,\"MDL\":19.127984,\"MGA\":4808.996036,\"MKD\":61.619949,\"MMK\":2237.798156,\"MNT\":3704.393273,\"MOP\":8.591393,\"MRO\":381.043452,\"MUR\":47.861148,\"MVR\":16.436192,\"MWK\":1151.799051,\"MXN\":18.232355,\"MYR\":4.999437,\"MZN\":67.509778,\"NAD\":20.258531,\"NGN\":837.591149,\"NIO\":38.989968,\"NOK\":11.490038,\"NPR\":141.541883,\"NZD\":1.807699,\"OMR\":0.4103,\"PAB\":1.065599,\"PEN\":3.960697,\"PGK\":3.864997,\"PHP\":60.534739,\"PKR\":316.383839,\"PLN\":4.651513,\"PYG\":7752.99361,\"QAR\":3.886248,\"RON\":4.974466,\"RSD\":117.284903,\"RUB\":103.325172,\"RWF\":1286.19894,\"SAR\":4.003667,\"SBD\":8.971151,\"SCR\":13.721289,\"SDG\":638.719538,\"SEK\":11.939474,\"SGD\":1.45421,\"SHP\":1.298697,\"SLE\":23.817871,\"SLL\":21080.145122,\"SOS\":607.854077,\"SSP\":641.47655,\"SRD\":40.619571,\"STD\":22091.97182,\"SYP\":13877.139587,\"SZL\":20.286983,\"THB\":38.141717,\"TJS\":11.70589,\"TMT\":3.746395,\"TND\":3.363754,\"TOP\":2.552725,\"TRY\":28.817311,\"TTD\":7.232994,\"TWD\":34.040002,\"TZS\":2669.3978,\"UAH\":39.355068,\"UGX\":3974.996724,\"USD\":1.067349,\"UYU\":40.809966,\"UZS\":12973.989306,\"VEF\":3568275.371897,\"VES\":35.719845,\"VND\":25899.226403,\"VUV\":129.202999,\"WST\":2.863817,\"XAF\":655.956459,\"XAG\":0.046369,\"XAU\":0.000555,\"XCD\":2.884564,\"XDR\":0.806399,\"XOF\":655.956459,\"XPF\":119.86561,\"YER\":267.184212,\"ZAR\":20.248467,\"ZMK\":9607.424923,\"ZMW\":21.764982,\"ZWL\":343.685981}}'"
      ]
     },
     "execution_count": 7,
     "metadata": {},
     "output_type": "execute_result"
    }
   ],
   "source": [
    "divisa"
   ]
  },
  {
   "cell_type": "code",
   "execution_count": 9,
   "metadata": {},
   "outputs": [
    {
     "data": {
      "text/html": [
       "<div>\n",
       "<style scoped>\n",
       "    .dataframe tbody tr th:only-of-type {\n",
       "        vertical-align: middle;\n",
       "    }\n",
       "\n",
       "    .dataframe tbody tr th {\n",
       "        vertical-align: top;\n",
       "    }\n",
       "\n",
       "    .dataframe thead th {\n",
       "        text-align: right;\n",
       "    }\n",
       "</style>\n",
       "<table border=\"1\" class=\"dataframe\">\n",
       "  <thead>\n",
       "    <tr style=\"text-align: right;\">\n",
       "      <th></th>\n",
       "      <th>Currency</th>\n",
       "      <th>Rate</th>\n",
       "    </tr>\n",
       "  </thead>\n",
       "  <tbody>\n",
       "    <tr>\n",
       "      <th>0</th>\n",
       "      <td>AED</td>\n",
       "      <td>3.920347</td>\n",
       "    </tr>\n",
       "    <tr>\n",
       "      <th>1</th>\n",
       "      <td>AFN</td>\n",
       "      <td>84.249931</td>\n",
       "    </tr>\n",
       "    <tr>\n",
       "      <th>2</th>\n",
       "      <td>ALL</td>\n",
       "      <td>106.949912</td>\n",
       "    </tr>\n",
       "    <tr>\n",
       "      <th>3</th>\n",
       "      <td>AMD</td>\n",
       "      <td>409.699662</td>\n",
       "    </tr>\n",
       "    <tr>\n",
       "      <th>4</th>\n",
       "      <td>ANG</td>\n",
       "      <td>1.920498</td>\n",
       "    </tr>\n",
       "    <tr>\n",
       "      <th>...</th>\n",
       "      <td>...</td>\n",
       "      <td>...</td>\n",
       "    </tr>\n",
       "    <tr>\n",
       "      <th>165</th>\n",
       "      <td>YER</td>\n",
       "      <td>267.184212</td>\n",
       "    </tr>\n",
       "    <tr>\n",
       "      <th>166</th>\n",
       "      <td>ZAR</td>\n",
       "      <td>20.248467</td>\n",
       "    </tr>\n",
       "    <tr>\n",
       "      <th>167</th>\n",
       "      <td>ZMK</td>\n",
       "      <td>9607.424923</td>\n",
       "    </tr>\n",
       "    <tr>\n",
       "      <th>168</th>\n",
       "      <td>ZMW</td>\n",
       "      <td>21.764982</td>\n",
       "    </tr>\n",
       "    <tr>\n",
       "      <th>169</th>\n",
       "      <td>ZWL</td>\n",
       "      <td>343.685981</td>\n",
       "    </tr>\n",
       "  </tbody>\n",
       "</table>\n",
       "<p>170 rows × 2 columns</p>\n",
       "</div>"
      ],
      "text/plain": [
       "    Currency         Rate\n",
       "0        AED     3.920347\n",
       "1        AFN    84.249931\n",
       "2        ALL   106.949912\n",
       "3        AMD   409.699662\n",
       "4        ANG     1.920498\n",
       "..       ...          ...\n",
       "165      YER   267.184212\n",
       "166      ZAR    20.248467\n",
       "167      ZMK  9607.424923\n",
       "168      ZMW    21.764982\n",
       "169      ZWL   343.685981\n",
       "\n",
       "[170 rows x 2 columns]"
      ]
     },
     "execution_count": 9,
     "metadata": {},
     "output_type": "execute_result"
    }
   ],
   "source": [
    "dict=json.loads(divisa)\n",
    "exchange_rates = dict['rates']\n",
    "divisa_df = pd.DataFrame(exchange_rates.items(), columns=['Currency', 'Rate'])\n",
    "divisa_df"
   ]
  },
  {
   "cell_type": "code",
   "execution_count": 10,
   "metadata": {},
   "outputs": [],
   "source": [
    "divisa_df.to_csv('divisa_rate.csv',encoding='utf-8',sep=',',index=False)"
   ]
  }
 ],
 "metadata": {
  "kernelspec": {
   "display_name": ".venv",
   "language": "python",
   "name": "python3"
  },
  "language_info": {
   "codemirror_mode": {
    "name": "ipython",
    "version": 3
   },
   "file_extension": ".py",
   "mimetype": "text/x-python",
   "name": "python",
   "nbconvert_exporter": "python",
   "pygments_lexer": "ipython3",
   "version": "3.10.8"
  },
  "orig_nbformat": 4
 },
 "nbformat": 4,
 "nbformat_minor": 2
}
