{
 "cells": [
  {
   "cell_type": "markdown",
   "metadata": {},
   "source": [
    "<div align=\"center\">\n",
    "  <img src=\"src/Head.png\" alt=\"Conceptos básicos de Python\">\n",
    "</div>"
   ]
  },
  {
   "cell_type": "markdown",
   "metadata": {},
   "source": [
    "<p align=\"center\">\n",
    "<a href=\"https://github.com/AlarconIlbert\"><img src=\"https://img.shields.io/badge/python-FFFF0.svg?style=for-the-badge&logo=python&logoColor=0768a8&labelColor=ffffff\" alt=\"python\"></a> <img src=\"https://img.shields.io/badge/vscode-blue.svg?style=for-the-badge&logo=visual-studio-code&labelColor=ffffff&logoColor=blue\" alt=\"vscode\"> <a href=\"https://github.com/AlarconIlbert\"><img src=\"https://img.shields.io/badge/github-black.svg?style=for-the-badge&logo=github&logoColor=black&labelColor=ffffff\" alt=\"github\"></a>\n",
    "</p>\n",
    "\n",
    "\n",
    "<p align=\"center\">\n",
    "  <a href=\"https://www.linkedin.com/in/ilbert-ferney-alarcon-bothia/\">\n",
    "    <img src=\"https://img.shields.io/badge/-ILBERT-blue?style=flat-square&logo=Linkedin&logoColor=white\" alt=\"Linkedin: thaianebraga\">\n",
    "  </a>\n",
    "  <img src=\"https://img.shields.io/github/followers/AlarconIlbert?label=Follow&style=social\" alt=\"GitHub followers\">\n",
    "  <a href=\"mailto:ilbertalarcon1@gmail.com\">\n",
    "    <img src=\"https://img.shields.io/badge/Outlook-ilbertalarcon1@gmail.com-red\" alt=\"Outlook\">\n",
    "  </a>\n",
    "</p>"
   ]
  }
 ],
 "metadata": {
  "kernelspec": {
   "display_name": ".venv",
   "language": "python",
   "name": "python3"
  },
  "language_info": {
   "codemirror_mode": {
    "name": "ipython",
    "version": 3
   },
   "file_extension": ".py",
   "mimetype": "text/x-python",
   "name": "python",
   "nbconvert_exporter": "python",
   "pygments_lexer": "ipython3",
   "version": "3.10.8"
  },
  "orig_nbformat": 4
 },
 "nbformat": 4,
 "nbformat_minor": 2
}
