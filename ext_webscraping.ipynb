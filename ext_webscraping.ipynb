{
 "cells": [
  {
   "cell_type": "markdown",
   "metadata": {},
   "source": [
    "<div align=\"center\">\n",
    "  <img src=\"src/Head.png\" alt=\"Conceptos básicos de Python\">\n",
    "</div>"
   ]
  },
  {
   "cell_type": "markdown",
   "metadata": {},
   "source": [
    "<p align=\"center\">\n",
    "<a href=\"https://github.com/AlarconIlbert\"><img src=\"https://img.shields.io/badge/python-FFFF0.svg?style=for-the-badge&logo=python&logoColor=0768a8&labelColor=ffffff\" alt=\"python\"></a> <img src=\"https://img.shields.io/badge/vscode-blue.svg?style=for-the-badge&logo=visual-studio-code&labelColor=ffffff&logoColor=blue\" alt=\"vscode\"> <a href=\"https://github.com/AlarconIlbert\"><img src=\"https://img.shields.io/badge/github-black.svg?style=for-the-badge&logo=github&logoColor=black&labelColor=ffffff\" alt=\"github\"></a>\n",
    "</p>\n",
    "\n",
    "\n",
    "<p align=\"center\">\n",
    "  <a href=\"https://www.linkedin.com/in/ilbert-ferney-alarcon-bothia/\">\n",
    "    <img src=\"https://img.shields.io/badge/-ILBERT-blue?style=flat-square&logo=Linkedin&logoColor=white\" alt=\"Linkedin: thaianebraga\">\n",
    "  </a>\n",
    "  <img src=\"https://img.shields.io/github/followers/AlarconIlbert?label=Follow&style=social\" alt=\"GitHub followers\">\n",
    "  <a href=\"mailto:ilbertalarcon1@gmail.com\">\n",
    "    <img src=\"https://img.shields.io/badge/Outlook-ilbertalarcon1@gmail.com-red\" alt=\"Outlook\">\n",
    "  </a>\n",
    "</p>"
   ]
  },
  {
   "cell_type": "markdown",
   "metadata": {},
   "source": [
    "# Imports Libraries"
   ]
  },
  {
   "cell_type": "code",
   "execution_count": 2,
   "metadata": {},
   "outputs": [],
   "source": [
    "import requests\n",
    "from bs4 import BeautifulSoup\n",
    "import pandas as pd"
   ]
  },
  {
   "cell_type": "markdown",
   "metadata": {},
   "source": [
    "Definir la URL donde se va a consultar la informacion"
   ]
  },
  {
   "cell_type": "code",
   "execution_count": 3,
   "metadata": {},
   "outputs": [
    {
     "data": {
      "text/plain": [
       "200"
      ]
     },
     "execution_count": 3,
     "metadata": {},
     "output_type": "execute_result"
    }
   ],
   "source": [
    "url='https://web.archive.org/web/20200318083015/https://en.wikipedia.org/wiki/List_of_largest_banks'\n",
    "bank=requests.get(url)\n",
    "bank.status_code"
   ]
  },
  {
   "cell_type": "markdown",
   "metadata": {},
   "source": [
    "Creando el Soup con el codigo del URL"
   ]
  },
  {
   "cell_type": "code",
   "execution_count": 4,
   "metadata": {},
   "outputs": [
    {
     "data": {
      "text/plain": [
       "bs4.BeautifulSoup"
      ]
     },
     "execution_count": 4,
     "metadata": {},
     "output_type": "execute_result"
    }
   ],
   "source": [
    "bank_soup=BeautifulSoup(bank.text,'lxml')\n",
    "type(bank_soup)"
   ]
  },
  {
   "cell_type": "markdown",
   "metadata": {},
   "source": [
    "Funcion que estrae l ainformacion de la Tabla Market Capitalization"
   ]
  },
  {
   "cell_type": "code",
   "execution_count": 5,
   "metadata": {},
   "outputs": [],
   "source": [
    "def extract_bank_data(html_content): \n",
    "    # Encuentra la tabla por su clase CSS\n",
    "    table = html_content.find('table', class_='wikitable sortable mw-collapsible')\n",
    "\n",
    "    # Inicializa una lista para almacenar los datos de los bancos\n",
    "    bank_data = []\n",
    "\n",
    "    # Inicializar listas para almacenar los datos\n",
    "    ranks = []\n",
    "    countries = []\n",
    "    bank_names = []\n",
    "    market_caps = []\n",
    "\n",
    "    # Itera a través de las noticias y extrae los nombres y enlaces\n",
    "    for fila in table:\n",
    "        rank = fila.find('td').text.strip()\n",
    "        contry = fila.find('td').text.strip()\n",
    "\n",
    "    return bank_data\n"
   ]
  },
  {
   "cell_type": "code",
   "execution_count": 6,
   "metadata": {},
   "outputs": [
    {
     "data": {
      "text/plain": [
       "bs4.BeautifulSoup"
      ]
     },
     "execution_count": 6,
     "metadata": {},
     "output_type": "execute_result"
    }
   ],
   "source": [
    "table = bank_soup.find('div',{'id':'mw-content-text'})\n",
    "tab=table.find_all('table')\n",
    "defin=tab[2]\n",
    "\n",
    "market_cap=BeautifulSoup(defin.text,'lxml')\n",
    "type(market_cap)"
   ]
  },
  {
   "cell_type": "code",
   "execution_count": 14,
   "metadata": {},
   "outputs": [],
   "source": [
    "# Encontrar todas las filas de la tabla (etiqueta <tr>)\n",
    "rows = defin.find_all('tr')\n",
    "\n",
    "# Inicializar un diccionario para almacenar las posiciones de los bancos\n",
    "bank_positions = {}\n",
    "\n",
    "# Iterar a través de las filas, comenzando desde la segunda fila (índice 1)\n",
    "for row in rows[1:]:\n",
    "    # Obtener el texto de la fila\n",
    "    row_text = row.get_text().split()\n",
    "    \n",
    "    # Extraer la posición, el nombre del banco y el valor de mercado\n",
    "    rank = row_text[0]\n",
    "    bank_name = ' '.join(row_text[1:-1])\n",
    "    market_cap = row_text[-1]\n",
    "    \n",
    "    # Almacenar la información en el diccionario\n",
    "    bank_positions[rank] = {\n",
    "        'Bank': bank_name,\n",
    "        'Market': market_cap\n",
    "    }"
   ]
  },
  {
   "cell_type": "code",
   "execution_count": 15,
   "metadata": {},
   "outputs": [
    {
     "data": {
      "text/plain": [
       "{'1': {'Bank': 'JPMorgan Chase', 'Market': '390.934'},\n",
       " '2': {'Bank': 'Industrial and Commercial Bank of China', 'Market': '345.214'},\n",
       " '3': {'Bank': 'Bank of America', 'Market': '325.331'},\n",
       " '4': {'Bank': 'Wells Fargo', 'Market': '308.013'},\n",
       " '5': {'Bank': 'China Construction Bank', 'Market': '257.399'},\n",
       " '6': {'Bank': 'HSBC Holdings PLC', 'Market': '219.270'},\n",
       " '7': {'Bank': 'Agricultural Bank of China', 'Market': '203.244'},\n",
       " '8': {'Bank': 'Citigroup Inc.', 'Market': '203.165'},\n",
       " '9': {'Bank': 'Bank of China', 'Market': '181.469'},\n",
       " '10': {'Bank': 'China Merchants Bank', 'Market': '122.616'},\n",
       " '11': {'Bank': 'Royal Bank of Canada', 'Market': '122.564'},\n",
       " '12': {'Bank': 'Banco Santander', 'Market': '115.696'},\n",
       " '13': {'Bank': 'Commonwealth Bank', 'Market': '112.227'},\n",
       " '14': {'Bank': 'Mitsubishi UFJ Financial Group', 'Market': '111.660'},\n",
       " '15': {'Bank': 'Toronto-Dominion Bank', 'Market': '108.449'},\n",
       " '16': {'Bank': 'BNP Paribas', 'Market': '103.258'},\n",
       " '17': {'Bank': 'Goldman Sachs', 'Market': '100.705'},\n",
       " '18': {'Bank': 'Sberbank of Russia', 'Market': '99.840'},\n",
       " '19': {'Bank': 'Morgan Stanley', 'Market': '99.651'},\n",
       " '20': {'Bank': 'U.S. Bancorp', 'Market': '94.558'},\n",
       " '21': {'Bank': 'HDFC Bank', 'Market': '100'},\n",
       " '22': {'Bank': 'Itaú Unibanco', 'Market': '86.203'},\n",
       " '23': {'Bank': 'Westpac', 'Market': '84.560'},\n",
       " '24': {'Bank': 'Scotiabank', 'Market': '78.947'},\n",
       " '25': {'Bank': 'ING Group', 'Market': '78.920'},\n",
       " '26': {'Bank': 'UBS', 'Market': '75.482'},\n",
       " '27': {'Bank': 'Charles Schwab', 'Market': '74.255'},\n",
       " '28': {'Bank': 'PNC Financial Services', 'Market': '72.246'},\n",
       " '29': {'Bank': 'Lloyds Banking Group', 'Market': '71.253'},\n",
       " '30': {'Bank': 'Sumitomo Mitsui Financial Group', 'Market': '67.328'},\n",
       " '31': {'Bank': 'Bank of Communications', 'Market': '67.078'},\n",
       " '32': {'Bank': 'Australia and New Zealand Banking Group', 'Market': '66.448'},\n",
       " '33': {'Bank': 'Banco Bradesco', 'Market': '64.816'},\n",
       " '34': {'Bank': 'National Australia Bank', 'Market': '63.794'},\n",
       " '35': {'Bank': 'Intesa Sanpaolo', 'Market': '62.032'},\n",
       " '36': {'Bank': 'Banco Bilbao Vizcaya Argentaria', 'Market': '60.678'},\n",
       " '37': {'Bank': 'Japan Post Bank', 'Market': '60.525'},\n",
       " '38': {'Bank': 'The Bank of New York Mellon', 'Market': '59.823'},\n",
       " '39': {'Bank': 'Shanghai Pudong Development Bank', 'Market': '58.796'},\n",
       " '40': {'Bank': 'Industrial Bank (China)', 'Market': '57.388'},\n",
       " '41': {'Bank': 'Bank of China (Hong Kong)', 'Market': '55.449'},\n",
       " '42': {'Bank': 'Bank of Montreal', 'Market': '53.181'},\n",
       " '43': {'Bank': 'Crédit Agricole', 'Market': '52.141'},\n",
       " '44': {'Bank': 'DBS Bank', 'Market': '51.475'},\n",
       " '45': {'Bank': 'Nordea', 'Market': '51.185'},\n",
       " '46': {'Bank': 'Capital One', 'Market': '51.107'},\n",
       " '47': {'Bank': 'Royal Bank of Scotland Group', 'Market': '50.490'},\n",
       " '48': {'Bank': 'Mizuho Financial Group', 'Market': '50.018'},\n",
       " '49': {'Bank': 'Credit Suisse', 'Market': '48.462'},\n",
       " '50': {'Bank': 'Postal Savings Bank of China', 'Market': '47.948'},\n",
       " '51': {'Bank': 'China Minsheng Bank', 'Market': '47.921'},\n",
       " '52': {'Bank': 'UniCredit', 'Market': '47.777'},\n",
       " '53': {'Bank': 'China CITIC Bank', 'Market': '47.451'},\n",
       " '54': {'Bank': 'Hang Seng Bank', 'Market': '46.171'},\n",
       " '55': {'Bank': 'Société Générale', 'Market': '46.051'},\n",
       " '56': {'Bank': 'Barclays', 'Market': '45.850'},\n",
       " '57': {'Bank': 'Canadian Imperial Bank of Commerce', 'Market': '43.544'},\n",
       " '58': {'Bank': 'Bank Central Asia', 'Market': '43.344'},\n",
       " '59': {'Bank': 'Truist Financial', 'Market': '41.923'},\n",
       " '60': {'Bank': 'Oversea-Chinese Banking Corp', 'Market': '41.362'},\n",
       " '61': {'Bank': 'State Bank of India', 'Market': '40.562'},\n",
       " '62': {'Bank': 'State Street', 'Market': '39.769'},\n",
       " '63': {'Bank': 'Deutsche Bank', 'Market': '38.649'},\n",
       " '64': {'Bank': 'KBC Bank', 'Market': '38.394'},\n",
       " '65': {'Bank': 'Danske Bank', 'Market': '38.223'},\n",
       " '66': {'Bank': 'Ping An Bank', 'Market': '37.993'},\n",
       " '67': {'Bank': 'Standard Chartered', 'Market': '37.319'},\n",
       " '68': {'Bank': 'United Overseas Bank', 'Market': '35.128'},\n",
       " '69': {'Bank': 'QNB Group', 'Market': '33.560'},\n",
       " '70': {'Bank': 'Bank Rakyat', 'Market': '33.081'}}"
      ]
     },
     "execution_count": 15,
     "metadata": {},
     "output_type": "execute_result"
    }
   ],
   "source": [
    "bank_positions"
   ]
  },
  {
   "cell_type": "code",
   "execution_count": 16,
   "metadata": {},
   "outputs": [
    {
     "data": {
      "text/html": [
       "<div>\n",
       "<style scoped>\n",
       "    .dataframe tbody tr th:only-of-type {\n",
       "        vertical-align: middle;\n",
       "    }\n",
       "\n",
       "    .dataframe tbody tr th {\n",
       "        vertical-align: top;\n",
       "    }\n",
       "\n",
       "    .dataframe thead th {\n",
       "        text-align: right;\n",
       "    }\n",
       "</style>\n",
       "<table border=\"1\" class=\"dataframe\">\n",
       "  <thead>\n",
       "    <tr style=\"text-align: right;\">\n",
       "      <th></th>\n",
       "      <th>Bank</th>\n",
       "      <th>Market</th>\n",
       "    </tr>\n",
       "  </thead>\n",
       "  <tbody>\n",
       "    <tr>\n",
       "      <th>1</th>\n",
       "      <td>JPMorgan Chase</td>\n",
       "      <td>390.934</td>\n",
       "    </tr>\n",
       "    <tr>\n",
       "      <th>2</th>\n",
       "      <td>Industrial and Commercial Bank of China</td>\n",
       "      <td>345.214</td>\n",
       "    </tr>\n",
       "    <tr>\n",
       "      <th>3</th>\n",
       "      <td>Bank of America</td>\n",
       "      <td>325.331</td>\n",
       "    </tr>\n",
       "    <tr>\n",
       "      <th>4</th>\n",
       "      <td>Wells Fargo</td>\n",
       "      <td>308.013</td>\n",
       "    </tr>\n",
       "    <tr>\n",
       "      <th>5</th>\n",
       "      <td>China Construction Bank</td>\n",
       "      <td>257.399</td>\n",
       "    </tr>\n",
       "    <tr>\n",
       "      <th>...</th>\n",
       "      <td>...</td>\n",
       "      <td>...</td>\n",
       "    </tr>\n",
       "    <tr>\n",
       "      <th>66</th>\n",
       "      <td>Ping An Bank</td>\n",
       "      <td>37.993</td>\n",
       "    </tr>\n",
       "    <tr>\n",
       "      <th>67</th>\n",
       "      <td>Standard Chartered</td>\n",
       "      <td>37.319</td>\n",
       "    </tr>\n",
       "    <tr>\n",
       "      <th>68</th>\n",
       "      <td>United Overseas Bank</td>\n",
       "      <td>35.128</td>\n",
       "    </tr>\n",
       "    <tr>\n",
       "      <th>69</th>\n",
       "      <td>QNB Group</td>\n",
       "      <td>33.560</td>\n",
       "    </tr>\n",
       "    <tr>\n",
       "      <th>70</th>\n",
       "      <td>Bank Rakyat</td>\n",
       "      <td>33.081</td>\n",
       "    </tr>\n",
       "  </tbody>\n",
       "</table>\n",
       "<p>70 rows × 2 columns</p>\n",
       "</div>"
      ],
      "text/plain": [
       "                                       Bank   Market\n",
       "1                            JPMorgan Chase  390.934\n",
       "2   Industrial and Commercial Bank of China  345.214\n",
       "3                           Bank of America  325.331\n",
       "4                               Wells Fargo  308.013\n",
       "5                   China Construction Bank  257.399\n",
       "..                                      ...      ...\n",
       "66                             Ping An Bank   37.993\n",
       "67                       Standard Chartered   37.319\n",
       "68                     United Overseas Bank   35.128\n",
       "69                                QNB Group   33.560\n",
       "70                              Bank Rakyat   33.081\n",
       "\n",
       "[70 rows x 2 columns]"
      ]
     },
     "execution_count": 16,
     "metadata": {},
     "output_type": "execute_result"
    }
   ],
   "source": [
    "# Crear un DataFrame a partir del diccionario\n",
    "bank_df = pd.DataFrame.from_dict(bank_positions, orient='index')\n",
    "bank_df"
   ]
  },
  {
   "cell_type": "code",
   "execution_count": null,
   "metadata": {},
   "outputs": [],
   "source": [
    "bank_df.to_csv('bank_ranking.csv',encoding='utf-8',sep=',',index=False)"
   ]
  }
 ],
 "metadata": {
  "kernelspec": {
   "display_name": ".venv",
   "language": "python",
   "name": "python3"
  },
  "language_info": {
   "codemirror_mode": {
    "name": "ipython",
    "version": 3
   },
   "file_extension": ".py",
   "mimetype": "text/x-python",
   "name": "python",
   "nbconvert_exporter": "python",
   "pygments_lexer": "ipython3",
   "version": "3.10.8"
  },
  "orig_nbformat": 4
 },
 "nbformat": 4,
 "nbformat_minor": 2
}
