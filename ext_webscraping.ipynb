{
 "cells": [
  {
   "cell_type": "markdown",
   "metadata": {},
   "source": [
    "<div align=\"center\">\n",
    "  <img src=\"src/Head.png\" alt=\"Conceptos básicos de Python\">\n",
    "</div>"
   ]
  },
  {
   "cell_type": "markdown",
   "metadata": {},
   "source": [
    "<p align=\"center\">\n",
    "<a href=\"https://github.com/AlarconIlbert\"><img src=\"https://img.shields.io/badge/python-FFFF0.svg?style=for-the-badge&logo=python&logoColor=0768a8&labelColor=ffffff\" alt=\"python\"></a> <img src=\"https://img.shields.io/badge/vscode-blue.svg?style=for-the-badge&logo=visual-studio-code&labelColor=ffffff&logoColor=blue\" alt=\"vscode\"> <a href=\"https://github.com/AlarconIlbert\"><img src=\"https://img.shields.io/badge/github-black.svg?style=for-the-badge&logo=github&logoColor=black&labelColor=ffffff\" alt=\"github\"></a>\n",
    "</p>\n",
    "\n",
    "\n",
    "<p align=\"center\">\n",
    "  <a href=\"https://www.linkedin.com/in/ilbert-ferney-alarcon-bothia/\">\n",
    "    <img src=\"https://img.shields.io/badge/-ILBERT-blue?style=flat-square&logo=Linkedin&logoColor=white\" alt=\"Linkedin: thaianebraga\">\n",
    "  </a>\n",
    "  <img src=\"https://img.shields.io/github/followers/AlarconIlbert?label=Follow&style=social\" alt=\"GitHub followers\">\n",
    "  <a href=\"mailto:ilbertalarcon1@gmail.com\">\n",
    "    <img src=\"https://img.shields.io/badge/Outlook-ilbertalarcon1@gmail.com-red\" alt=\"Outlook\">\n",
    "  </a>\n",
    "</p>"
   ]
  },
  {
   "cell_type": "markdown",
   "metadata": {},
   "source": [
    "# Imports Libraries"
   ]
  },
  {
   "cell_type": "code",
   "execution_count": 2,
   "metadata": {},
   "outputs": [],
   "source": [
    "import requests\n",
    "from bs4 import BeautifulSoup\n",
    "import pandas as pd"
   ]
  },
  {
   "cell_type": "markdown",
   "metadata": {},
   "source": [
    "Definir la URL donde se va a consultar la informacion"
   ]
  },
  {
   "cell_type": "code",
   "execution_count": 3,
   "metadata": {},
   "outputs": [
    {
     "data": {
      "text/plain": [
       "200"
      ]
     },
     "execution_count": 3,
     "metadata": {},
     "output_type": "execute_result"
    }
   ],
   "source": [
    "url='https://web.archive.org/web/20200318083015/https://en.wikipedia.org/wiki/List_of_largest_banks'\n",
    "bank=requests.get(url)\n",
    "bank.status_code"
   ]
  },
  {
   "cell_type": "markdown",
   "metadata": {},
   "source": [
    "Creando el Soup con el codigo del URL"
   ]
  },
  {
   "cell_type": "code",
   "execution_count": 4,
   "metadata": {},
   "outputs": [
    {
     "data": {
      "text/plain": [
       "bs4.BeautifulSoup"
      ]
     },
     "execution_count": 4,
     "metadata": {},
     "output_type": "execute_result"
    }
   ],
   "source": [
    "bank_soup=BeautifulSoup(bank.text,'lxml')\n",
    "type(bank_soup)"
   ]
  },
  {
   "cell_type": "markdown",
   "metadata": {},
   "source": [
    "Funcion que estrae l ainformacion de la Tabla Market Capitalization"
   ]
  },
  {
   "cell_type": "code",
   "execution_count": 5,
   "metadata": {},
   "outputs": [],
   "source": [
    "def extract_bank_data(html_content): \n",
    "    # Encuentra la tabla por su clase CSS\n",
    "    table = html_content.find('table', class_='wikitable sortable mw-collapsible')\n",
    "\n",
    "    # Inicializa una lista para almacenar los datos de los bancos\n",
    "    bank_data = []\n",
    "\n",
    "    # Inicializar listas para almacenar los datos\n",
    "    ranks = []\n",
    "    countries = []\n",
    "    bank_names = []\n",
    "    market_caps = []\n",
    "\n",
    "    # Itera a través de las noticias y extrae los nombres y enlaces\n",
    "    for fila in table:\n",
    "        rank = fila.find('td').text.strip()\n",
    "        contry = fila.find('td').text.strip()\n",
    "\n",
    "    return bank_data\n"
   ]
  },
  {
   "cell_type": "code",
   "execution_count": 6,
   "metadata": {},
   "outputs": [
    {
     "data": {
      "text/plain": [
       "bs4.BeautifulSoup"
      ]
     },
     "execution_count": 6,
     "metadata": {},
     "output_type": "execute_result"
    }
   ],
   "source": [
    "table = bank_soup.find('div',{'id':'mw-content-text'})\n",
    "tab=table.find_all('table')\n",
    "defin=tab[2]\n",
    "\n",
    "market_cap=BeautifulSoup(defin.text,'lxml')\n",
    "type(market_cap)"
   ]
  },
  {
   "cell_type": "code",
   "execution_count": 11,
   "metadata": {},
   "outputs": [],
   "source": [
    "# Encontrar todas las filas de la tabla (etiqueta <tr>)\n",
    "rows = defin.find_all('tr')\n",
    "\n",
    "# Inicializar un diccionario para almacenar las posiciones de los bancos\n",
    "bank_positions = {}\n",
    "\n",
    "# Iterar a través de las filas, comenzando desde la segunda fila (índice 1)\n",
    "for row in rows[1:]:\n",
    "    # Obtener el texto de la fila\n",
    "    row_text = row.get_text().split()\n",
    "    \n",
    "    # Extraer la posición, el nombre del banco y el valor de mercado\n",
    "    rank = row_text[0]\n",
    "    bank_name = ' '.join(row_text[1:-1])\n",
    "    market_cap = row_text[-1]\n",
    "    \n",
    "    # Almacenar la información en el diccionario\n",
    "    bank_positions[rank] = {\n",
    "        'Bank': bank_name,\n",
    "        'Market': market_cap\n",
    "    }"
   ]
  },
  {
   "cell_type": "code",
   "execution_count": 13,
   "metadata": {},
   "outputs": [
    {
     "name": "stdout",
     "output_type": "stream",
     "text": [
      "{'1': {'Bank': 'JPMorgan Chase', 'Market': '390.934'}, '2': {'Bank': 'Industrial and Commercial Bank of China', 'Market': '345.214'}, '3': {'Bank': 'Bank of America', 'Market': '325.331'}, '4': {'Bank': 'Wells Fargo', 'Market': '308.013'}, '5': {'Bank': 'China Construction Bank', 'Market': '257.399'}, '6': {'Bank': 'HSBC Holdings PLC', 'Market': '219.270'}, '7': {'Bank': 'Agricultural Bank of China', 'Market': '203.244'}, '8': {'Bank': 'Citigroup Inc.', 'Market': '203.165'}, '9': {'Bank': 'Bank of China', 'Market': '181.469'}, '10': {'Bank': 'China Merchants Bank', 'Market': '122.616'}, '11': {'Bank': 'Royal Bank of Canada', 'Market': '122.564'}, '12': {'Bank': 'Banco Santander', 'Market': '115.696'}, '13': {'Bank': 'Commonwealth Bank', 'Market': '112.227'}, '14': {'Bank': 'Mitsubishi UFJ Financial Group', 'Market': '111.660'}, '15': {'Bank': 'Toronto-Dominion Bank', 'Market': '108.449'}, '16': {'Bank': 'BNP Paribas', 'Market': '103.258'}, '17': {'Bank': 'Goldman Sachs', 'Market': '100.705'}, '18': {'Bank': 'Sberbank of Russia', 'Market': '99.840'}, '19': {'Bank': 'Morgan Stanley', 'Market': '99.651'}, '20': {'Bank': 'U.S. Bancorp', 'Market': '94.558'}, '21': {'Bank': 'HDFC Bank', 'Market': '100'}, '22': {'Bank': 'Itaú Unibanco', 'Market': '86.203'}, '23': {'Bank': 'Westpac', 'Market': '84.560'}, '24': {'Bank': 'Scotiabank', 'Market': '78.947'}, '25': {'Bank': 'ING Group', 'Market': '78.920'}, '26': {'Bank': 'UBS', 'Market': '75.482'}, '27': {'Bank': 'Charles Schwab', 'Market': '74.255'}, '28': {'Bank': 'PNC Financial Services', 'Market': '72.246'}, '29': {'Bank': 'Lloyds Banking Group', 'Market': '71.253'}, '30': {'Bank': 'Sumitomo Mitsui Financial Group', 'Market': '67.328'}, '31': {'Bank': 'Bank of Communications', 'Market': '67.078'}, '32': {'Bank': 'Australia and New Zealand Banking Group', 'Market': '66.448'}, '33': {'Bank': 'Banco Bradesco', 'Market': '64.816'}, '34': {'Bank': 'National Australia Bank', 'Market': '63.794'}, '35': {'Bank': 'Intesa Sanpaolo', 'Market': '62.032'}, '36': {'Bank': 'Banco Bilbao Vizcaya Argentaria', 'Market': '60.678'}, '37': {'Bank': 'Japan Post Bank', 'Market': '60.525'}, '38': {'Bank': 'The Bank of New York Mellon', 'Market': '59.823'}, '39': {'Bank': 'Shanghai Pudong Development Bank', 'Market': '58.796'}, '40': {'Bank': 'Industrial Bank (China)', 'Market': '57.388'}, '41': {'Bank': 'Bank of China (Hong Kong)', 'Market': '55.449'}, '42': {'Bank': 'Bank of Montreal', 'Market': '53.181'}, '43': {'Bank': 'Crédit Agricole', 'Market': '52.141'}, '44': {'Bank': 'DBS Bank', 'Market': '51.475'}, '45': {'Bank': 'Nordea', 'Market': '51.185'}, '46': {'Bank': 'Capital One', 'Market': '51.107'}, '47': {'Bank': 'Royal Bank of Scotland Group', 'Market': '50.490'}, '48': {'Bank': 'Mizuho Financial Group', 'Market': '50.018'}, '49': {'Bank': 'Credit Suisse', 'Market': '48.462'}, '50': {'Bank': 'Postal Savings Bank of China', 'Market': '47.948'}, '51': {'Bank': 'China Minsheng Bank', 'Market': '47.921'}, '52': {'Bank': 'UniCredit', 'Market': '47.777'}, '53': {'Bank': 'China CITIC Bank', 'Market': '47.451'}, '54': {'Bank': 'Hang Seng Bank', 'Market': '46.171'}, '55': {'Bank': 'Société Générale', 'Market': '46.051'}, '56': {'Bank': 'Barclays', 'Market': '45.850'}, '57': {'Bank': 'Canadian Imperial Bank of Commerce', 'Market': '43.544'}, '58': {'Bank': 'Bank Central Asia', 'Market': '43.344'}, '59': {'Bank': 'Truist Financial', 'Market': '41.923'}, '60': {'Bank': 'Oversea-Chinese Banking Corp', 'Market': '41.362'}, '61': {'Bank': 'State Bank of India', 'Market': '40.562'}, '62': {'Bank': 'State Street', 'Market': '39.769'}, '63': {'Bank': 'Deutsche Bank', 'Market': '38.649'}, '64': {'Bank': 'KBC Bank', 'Market': '38.394'}, '65': {'Bank': 'Danske Bank', 'Market': '38.223'}, '66': {'Bank': 'Ping An Bank', 'Market': '37.993'}, '67': {'Bank': 'Standard Chartered', 'Market': '37.319'}, '68': {'Bank': 'United Overseas Bank', 'Market': '35.128'}, '69': {'Bank': 'QNB Group', 'Market': '33.560'}, '70': {'Bank': 'Bank Rakyat', 'Market': '33.081'}}\n"
     ]
    }
   ],
   "source": [
    "bank_positions"
   ]
  }
 ],
 "metadata": {
  "kernelspec": {
   "display_name": ".venv",
   "language": "python",
   "name": "python3"
  },
  "language_info": {
   "codemirror_mode": {
    "name": "ipython",
    "version": 3
   },
   "file_extension": ".py",
   "mimetype": "text/x-python",
   "name": "python",
   "nbconvert_exporter": "python",
   "pygments_lexer": "ipython3",
   "version": "3.10.8"
  },
  "orig_nbformat": 4
 },
 "nbformat": 4,
 "nbformat_minor": 2
}
